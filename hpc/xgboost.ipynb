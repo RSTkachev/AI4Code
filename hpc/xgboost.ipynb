{
 "cells": [
  {
   "cell_type": "code",
   "execution_count": 4,
   "id": "5483cb63-c384-4e27-a8da-2d49d493e157",
   "metadata": {},
   "outputs": [],
   "source": [
    "import glob\n",
    "import os\n",
    "from typing import List\n",
    "# import jieba\n",
    "\n",
    "import numpy as np\n",
    "import pandas as pd\n",
    "# import tensorflow as tf\n",
    "import transformers\n",
    "from tqdm.notebook import tqdm\n",
    "import warnings\n",
    "import xgboost as xgb\n",
    "from sklearn.model_selection import train_test_split\n",
    "\n",
    "from matplotlib import pyplot as plt\n",
    "def read_notebook(path: str) -> pd.DataFrame:\n",
    "    return (\n",
    "        pd.read_json(path, dtype={\"cell_type\": \"category\", \"source\": \"str\"})\n",
    "        .assign(id=os.path.basename(path).split(\".\")[0])\n",
    "        .rename_axis(\"cell_id\")\n",
    "    )\n",
    "\n",
    "\n",
    "\n",
    "def get_ranks(base: pd.Series, derived: List[str]) -> List[str]:\n",
    "    return [base.index(d) for d in derived]\n",
    "\n",
    "\n",
    "\n",
    "# Отключаем FutureWarning\n",
    "warnings.filterwarnings(\"ignore\", category=FutureWarning)"
   ]
  },
  {
   "cell_type": "code",
   "execution_count": 5,
   "id": "e8b57d14-2e5e-4dbd-8d7e-4586ccad8d18",
   "metadata": {},
   "outputs": [
    {
     "data": {
      "application/vnd.jupyter.widget-view+json": {
       "model_id": "56fe61f3a137449b808292a275d30936",
       "version_major": 2,
       "version_minor": 0
      },
      "text/plain": [
       "Concat:   0%|          | 0/139256 [00:00<?, ?it/s]"
      ]
     },
     "metadata": {},
     "output_type": "display_data"
    }
   ],
   "source": [
    "paths = glob.glob(os.path.join('AI4Code', \"train\", \"*.json\"))\n",
    "df = (\n",
    "    pd.concat([read_notebook(x) for x in tqdm(paths, desc=\"Concat\")])\n",
    "    .set_index(\"id\", append=True)\n",
    "    .swaplevel()\n",
    "    .sort_index(level=\"id\", sort_remaining=False)\n",
    ").reset_index()\n",
    "df[\"source\"] = df[\"source\"]\n",
    "df[\"rank\"] = df.groupby([\"id\", \"cell_type\"]).cumcount()\n",
    "df[\"pct_rank\"] = df.groupby([\"id\", \"cell_type\"])[\"rank\"].rank(pct=True)"
   ]
  },
  {
   "cell_type": "code",
   "execution_count": 6,
   "id": "f4a87521-6863-4698-a8e1-569879e6efc6",
   "metadata": {},
   "outputs": [],
   "source": [
    "df['source'] = df['source'].fillna('')  # Замена NaN на пустые строки\n",
    "df = df[df['source'].str.strip() != '']  # Удаление пустых строк\n",
    "df['source'] = df['source'].astype(str)  # Преобразование всех значений в строки\n",
    "\n",
    "# Удаление символов новой строки\n",
    "df['source'] = df['source'].str.replace('\\n', ' ', regex=False)\n",
    "df['source'] = df['source'].str.replace('.', ' ', regex=False)\n",
    "# Сохранение текста в файл для обучения FastText\n",
    "with open('text_data.txt', 'w', encoding='utf-8') as f:\n",
    "    for text in df['source']:\n",
    "        f.write(text + '\\n')\n",
    "with open('fasttext_data.txt', 'w') as f:\n",
    "    for index, row in df.iterrows():\n",
    "        f.write(f'__label__{row[\"rank\"]} {row[\"source\"]}\\n')"
   ]
  },
  {
   "cell_type": "code",
   "execution_count": 7,
   "id": "96463c6c-23c3-4de1-bf1a-ca819b5e87fc",
   "metadata": {},
   "outputs": [
    {
     "name": "stderr",
     "output_type": "stream",
     "text": [
      "Read 205M words\n",
      "Number of words:  11191425\n",
      "Number of labels: 810\n",
      "Progress: 100.0% words/sec/thread:   19567 lr:  0.000000 avg.loss:  4.147717 ETA:   0h 0m 0s\n"
     ]
    }
   ],
   "source": [
    "import fasttext\n",
    "model = fasttext.train_supervised(input='fasttext_data.txt', wordNgrams=2)  # Используем биграммы\n",
    "\n",
    "# Создание эмбедингов для каждого абзаца\n",
    "\n",
    "\n",
    "\n"
   ]
  },
  {
   "cell_type": "code",
   "execution_count": 8,
   "id": "2d97b39f-987e-4f5b-ae56-bce866c27d4b",
   "metadata": {},
   "outputs": [],
   "source": [
    "df['embedding'] = df['source'].apply(lambda x: model.get_sentence_vector(x))"
   ]
  },
  {
   "cell_type": "code",
   "execution_count": 10,
   "id": "9754501e-95af-4ce7-8917-8dc7bd7daf46",
   "metadata": {},
   "outputs": [],
   "source": [
    "# Разделение данных на обучающую и тестовую выборки\n",
    "import xgboost as xgb\n",
    "\n",
    "from scipy.stats import kendalltau\n",
    "from sklearn.metrics import ndcg_score\n",
    "from sklearn.model_selection import train_test_split\n",
    "X = list(df['embedding'])\n",
    "y = df['rank']\n",
    "X_train, X_test, y_train, y_test = train_test_split(X, y, test_size=0.1, random_state=42)"
   ]
  },
  {
   "cell_type": "code",
   "execution_count": 11,
   "id": "f340c5d1-df6d-4b7d-b8ff-197a97d1fefe",
   "metadata": {},
   "outputs": [],
   "source": [
    "import xgboost as xgb\n",
    "\n",
    "# Преобразование данных в формат DMatrix, который используется в XGBoost\n",
    "dtrain = xgb.DMatrix(X_train, label=y_train)\n",
    "dtest = xgb.DMatrix(X_test, label=y_test)\n",
    "\n",
    "# Параметры модели\n",
    "params = {\n",
    "    'objective': 'rank:pairwise',\n",
    "    'eta': 0.1,\n",
    "    'gamma': 1.0,\n",
    "    'min_child_weight': 0.1,\n",
    "    'max_depth': 6,\n",
    "    'eval_metric': 'ndcg'\n",
    "}\n",
    "\n",
    "# Обучение модели\n",
    "bst = xgb.train(params, dtrain, num_boost_round=100)\n",
    "\n",
    "# Предсказание на тестовом наборе\n",
    "y_pred = bst.predict(dtest)"
   ]
  },
  {
   "cell_type": "code",
   "execution_count": 12,
   "id": "f3541121-f9e4-4042-8c29-0cc3c2f83537",
   "metadata": {},
   "outputs": [],
   "source": [
    "from sklearn.metrics.pairwise import cosine_similarity\n",
    "from scipy.stats import kendalltau\n",
    "from sklearn.metrics import ndcg_score"
   ]
  },
  {
   "cell_type": "code",
   "execution_count": 13,
   "id": "7602691f-9bb3-4ff6-9ade-23b321f850ba",
   "metadata": {},
   "outputs": [
    {
     "name": "stdout",
     "output_type": "stream",
     "text": [
      "NDCG: 0.9293989134777952\n",
      "Kendall Tau Score: 0.10297401267864703\n",
      "P-value: 0.0\n"
     ]
    }
   ],
   "source": [
    "ndcg = ndcg_score([y_test], [y_pred])\n",
    "print(f'NDCG: {ndcg}')\n",
    "tau, p_value = kendalltau(y_test, y_pred)\n",
    "print(f'Kendall Tau Score: {tau}')\n",
    "print(f'P-value: {p_value}')"
   ]
  },
  {
   "cell_type": "code",
   "execution_count": 14,
   "id": "55bd9605-736e-4f1e-a43d-749115b83129",
   "metadata": {},
   "outputs": [
    {
     "name": "stderr",
     "output_type": "stream",
     "text": [
      "/tmp/job-2495417/ipykernel_124581/3021787573.py:3: UserWarning: [23:22:36] WARNING: /workspace/src/c_api/c_api.cc:1427: Saving model in the UBJSON format as default.  You can use file extension: `json`, `ubj` or `deprecated` to choose between formats.\n",
      "  bst.save_model('xgboost_model.model')\n"
     ]
    }
   ],
   "source": [
    "bst.save_model('xgboost_model.json')  # Сохранить в формате JSON\n",
    "# Или\n",
    "bst.save_model('xgboost_model.model') "
   ]
  },
  {
   "cell_type": "code",
   "execution_count": null,
   "id": "24f1661f-f957-47be-bc23-406c44e372a3",
   "metadata": {},
   "outputs": [],
   "source": []
  },
  {
   "cell_type": "code",
   "execution_count": null,
   "id": "356480b1-2751-4a08-8fcd-c57226bb441e",
   "metadata": {},
   "outputs": [],
   "source": [
    "\n",
    "\n",
    "\n",
    "X_train, X_test, y_train, y_test = train_test_split(\n",
    "    df[['source']], df['rank'], test_size=0.2, random_state=42\n",
    ")\n",
    "X_train, X_test, y_train, y_test = train_test_split(\n",
    "    df[['source']], df['rank'], test_size=0.2, random_state=42\n",
    ")\n",
    "\n",
    "# Преобразование данных в формат DMatrix\n",
    "dtrain = xgb.DMatrix(X_train, label=y_train)\n",
    "dtest = xgb.DMatrix(X_test, label=y_test)\n",
    "\n",
    "# Параметры модели\n",
    "params = {\n",
    "    'objective': 'rank:pairwise',\n",
    "    'eta': 0.1,\n",
    "    'gamma': 1.0,\n",
    "    'min_child_weight': 0.1,\n",
    "    'max_depth': 6,\n",
    "    'eval_metric': 'ndcg'\n",
    "}\n",
    "\n",
    "# Обучение модели\n",
    "bst = xgb.train(params, dtrain, num_boost_round=100)\n",
    "\n",
    "# Предсказание на тестовом наборе\n",
    "y_pred = bst.predict(dtest)\n"
   ]
  },
  {
   "cell_type": "code",
   "execution_count": null,
   "id": "659274d0-0f01-4183-a462-6740fb6c6f2a",
   "metadata": {},
   "outputs": [],
   "source": []
  },
  {
   "cell_type": "code",
   "execution_count": null,
   "id": "26fd5aca-e70b-4e73-891e-c1cc58a3c65c",
   "metadata": {},
   "outputs": [],
   "source": []
  },
  {
   "cell_type": "code",
   "execution_count": null,
   "id": "d7837a77-80fd-446e-8dea-57553d30bbc5",
   "metadata": {},
   "outputs": [],
   "source": [
    "paths = glob.glob(os.path.join('/kaggle/input/ai4code/AI4Code', \"train\", \"*.json\"))\n",
    "df = (\n",
    "    pd.concat([read_notebook(x) for x in tqdm(paths[:20000], desc=\"Concat\")])\n",
    "    .set_index(\"id\", append=True)\n",
    "    .swaplevel()\n",
    "    .sort_index(level=\"id\", sort_remaining=False)\n",
    ").reset_index()\n",
    "df[\"source\"] = df[\"source\"]\n",
    "df[\"rank\"] = df.groupby([\"id\", \"cell_type\"]).cumcount()\n",
    "df[\"pct_rank\"] = df.groupby([\"id\", \"cell_type\"])[\"rank\"].rank(pct=True)"
   ]
  },
  {
   "cell_type": "code",
   "execution_count": null,
   "id": "74e26f42-c1c0-4e80-95a7-e881ae541193",
   "metadata": {},
   "outputs": [],
   "source": [
    "df['source'] = df['source'].fillna('')  # Замена NaN на пустые строки\n",
    "df = df[df['source'].str.strip() != '']  # Удаление пустых строк\n",
    "df['source'] = df['source'].astype(str)  # Преобразование всех значений в строки\n",
    "\n",
    "# Удаление символов новой строки\n",
    "df['source'] = df['source'].str.replace('\\n', ' ', regex=False)\n",
    "df['source'] = df['source'].str.replace('.', ' ', regex=False)\n",
    "# Сохранение текста в файл для обучения FastText\n",
    "with open('text_data.txt', 'w', encoding='utf-8') as f:\n",
    "    for text in df['source']:\n",
    "        f.write(text + '\\n')\n",
    "with open('fasttext_data.txt', 'w') as f:\n",
    "    for index, row in df.iterrows():\n",
    "        f.write(f'__label__{row[\"rank\"]} {row[\"source\"]}\\n')"
   ]
  }
 ],
 "metadata": {
  "kernelspec": {
   "display_name": "Python [.conda-a4code]",
   "language": "python",
   "name": "conda-env-.conda-a4code-py"
  },
  "language_info": {
   "codemirror_mode": {
    "name": "ipython",
    "version": 3
   },
   "file_extension": ".py",
   "mimetype": "text/x-python",
   "name": "python",
   "nbconvert_exporter": "python",
   "pygments_lexer": "ipython3",
   "version": "3.12.9"
  }
 },
 "nbformat": 4,
 "nbformat_minor": 5
}
